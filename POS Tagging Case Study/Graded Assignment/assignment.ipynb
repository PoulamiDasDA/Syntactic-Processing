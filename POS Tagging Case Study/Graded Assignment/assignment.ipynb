{
 "cells": [
  {
   "cell_type": "code",
   "execution_count": null,
   "id": "ff87479e",
   "metadata": {},
   "outputs": [],
   "source": []
  },
  {
   "cell_type": "code",
   "execution_count": 22,
   "id": "f040f988",
   "metadata": {},
   "outputs": [],
   "source": [
    "import pandas as pd\n",
    "import numpy as np\n",
    "import os"
   ]
  },
  {
   "cell_type": "code",
   "execution_count": 23,
   "id": "57ef9020",
   "metadata": {},
   "outputs": [],
   "source": [
    "import spacy \n",
    "nlp = spacy.load(\"en_core_web_sm\")\n",
    "nlp=spacy.load('en_core_web_sm',disable=['parser','ner'])"
   ]
  },
  {
   "cell_type": "code",
   "execution_count": 24,
   "id": "eaaf15c8",
   "metadata": {},
   "outputs": [
    {
     "data": {
      "text/html": [
       "<div>\n",
       "<style scoped>\n",
       "    .dataframe tbody tr th:only-of-type {\n",
       "        vertical-align: middle;\n",
       "    }\n",
       "\n",
       "    .dataframe tbody tr th {\n",
       "        vertical-align: top;\n",
       "    }\n",
       "\n",
       "    .dataframe thead th {\n",
       "        text-align: right;\n",
       "    }\n",
       "</style>\n",
       "<table border=\"1\" class=\"dataframe\">\n",
       "  <thead>\n",
       "    <tr style=\"text-align: right;\">\n",
       "      <th></th>\n",
       "      <th>word</th>\n",
       "      <th>tag</th>\n",
       "    </tr>\n",
       "  </thead>\n",
       "  <tbody>\n",
       "    <tr>\n",
       "      <th>0</th>\n",
       "      <td>the</td>\n",
       "      <td>DET</td>\n",
       "    </tr>\n",
       "    <tr>\n",
       "      <th>1</th>\n",
       "      <td>fulton</td>\n",
       "      <td>NOUN</td>\n",
       "    </tr>\n",
       "    <tr>\n",
       "      <th>2</th>\n",
       "      <td>county</td>\n",
       "      <td>NOUN</td>\n",
       "    </tr>\n",
       "    <tr>\n",
       "      <th>3</th>\n",
       "      <td>grand</td>\n",
       "      <td>ADJ</td>\n",
       "    </tr>\n",
       "    <tr>\n",
       "      <th>4</th>\n",
       "      <td>jury</td>\n",
       "      <td>NOUN</td>\n",
       "    </tr>\n",
       "  </tbody>\n",
       "</table>\n",
       "</div>"
      ],
      "text/plain": [
       "     word   tag\n",
       "0     the   DET\n",
       "1  fulton  NOUN\n",
       "2  county  NOUN\n",
       "3   grand   ADJ\n",
       "4    jury  NOUN"
      ]
     },
     "execution_count": 24,
     "metadata": {},
     "output_type": "execute_result"
    }
   ],
   "source": [
    "df = pd.read_csv('tagged-words.csv')\n",
    "df.head()"
   ]
  },
  {
   "cell_type": "code",
   "execution_count": 25,
   "id": "8aeedeac",
   "metadata": {},
   "outputs": [
    {
     "data": {
      "text/plain": [
       "(1161192, 2)"
      ]
     },
     "execution_count": 25,
     "metadata": {},
     "output_type": "execute_result"
    }
   ],
   "source": [
    "df.shape"
   ]
  },
  {
   "cell_type": "code",
   "execution_count": 26,
   "id": "64457929",
   "metadata": {},
   "outputs": [
    {
     "data": {
      "text/plain": [
       "53532"
      ]
     },
     "execution_count": 26,
     "metadata": {},
     "output_type": "execute_result"
    }
   ],
   "source": [
    "len(df.value_counts())"
   ]
  },
  {
   "cell_type": "code",
   "execution_count": 27,
   "id": "3649c2bc",
   "metadata": {},
   "outputs": [],
   "source": [
    "df['word'] = df['word'].str.lower()\n",
    "df['tag'] = df['tag'].str.upper()"
   ]
  },
  {
   "cell_type": "code",
   "execution_count": 28,
   "id": "1ddfdcba",
   "metadata": {},
   "outputs": [
    {
     "data": {
      "text/html": [
       "<div>\n",
       "<style scoped>\n",
       "    .dataframe tbody tr th:only-of-type {\n",
       "        vertical-align: middle;\n",
       "    }\n",
       "\n",
       "    .dataframe tbody tr th {\n",
       "        vertical-align: top;\n",
       "    }\n",
       "\n",
       "    .dataframe thead th {\n",
       "        text-align: right;\n",
       "    }\n",
       "</style>\n",
       "<table border=\"1\" class=\"dataframe\">\n",
       "  <thead>\n",
       "    <tr style=\"text-align: right;\">\n",
       "      <th></th>\n",
       "      <th>word</th>\n",
       "      <th>tag</th>\n",
       "      <th>count</th>\n",
       "    </tr>\n",
       "  </thead>\n",
       "  <tbody>\n",
       "    <tr>\n",
       "      <th>0</th>\n",
       "      <td>!</td>\n",
       "      <td>ADJ</td>\n",
       "      <td>147565</td>\n",
       "    </tr>\n",
       "    <tr>\n",
       "      <th>1</th>\n",
       "      <td>the</td>\n",
       "      <td>DET</td>\n",
       "      <td>69968</td>\n",
       "    </tr>\n",
       "    <tr>\n",
       "      <th>2</th>\n",
       "      <td>of</td>\n",
       "      <td>ADP</td>\n",
       "      <td>36410</td>\n",
       "    </tr>\n",
       "    <tr>\n",
       "      <th>3</th>\n",
       "      <td>and</td>\n",
       "      <td>CONJ</td>\n",
       "      <td>28850</td>\n",
       "    </tr>\n",
       "    <tr>\n",
       "      <th>4</th>\n",
       "      <td>a</td>\n",
       "      <td>DET</td>\n",
       "      <td>23070</td>\n",
       "    </tr>\n",
       "  </tbody>\n",
       "</table>\n",
       "</div>"
      ],
      "text/plain": [
       "  word   tag   count\n",
       "0    !   ADJ  147565\n",
       "1  the   DET   69968\n",
       "2   of   ADP   36410\n",
       "3  and  CONJ   28850\n",
       "4    a   DET   23070"
      ]
     },
     "execution_count": 28,
     "metadata": {},
     "output_type": "execute_result"
    }
   ],
   "source": [
    "f2 = df.value_counts().reset_index()\n",
    "f2.columns = ['word','tag','count']\n",
    "f2.head()"
   ]
  },
  {
   "cell_type": "code",
   "execution_count": 29,
   "id": "02702a11",
   "metadata": {},
   "outputs": [
    {
     "name": "stdout",
     "output_type": "stream",
     "text": [
      "[('!', 'ADJ'), ('$.027', 'NOUN'), ('$.03', 'NOUN'), ('$.054/mbf', 'NOUN'), ('$.07', 'NOUN'), ('$.07/cwt', 'NOUN'), ('$.076', 'NOUN'), ('$.09', 'NOUN'), ('$.10-a-minute', 'NOUN'), ('$.105', 'NOUN')]\n"
     ]
    }
   ],
   "source": [
    "# Group by word and tag, count occurrences\n",
    "freq_table = df.groupby(['word', 'tag']).size().reset_index(name='count')\n",
    "\n",
    "# For each word, select the tag with max frequency\n",
    "most_common_tag = freq_table.loc[freq_table.groupby('word')['count'].idxmax()]\n",
    "\n",
    "# Convert to dictionary: {word: tag}\n",
    "word_tag_dict = dict(zip(most_common_tag['word'], most_common_tag['tag']))\n",
    "\n",
    "print(list(word_tag_dict.items())[:10])\n"
   ]
  },
  {
   "cell_type": "code",
   "execution_count": 30,
   "id": "a75d7103",
   "metadata": {},
   "outputs": [],
   "source": [
    "def simple_pos_tagger(tokens, word_tag_dict, default_tag='NOUN'):\n",
    "    tags = []\n",
    "    for word in tokens:\n",
    "        tag = word_tag_dict.get(word.lower(), default_tag)\n",
    "        tags.append((word, tag))\n",
    "    return tags\n"
   ]
  },
  {
   "cell_type": "code",
   "execution_count": 31,
   "id": "d1305fa7",
   "metadata": {},
   "outputs": [
    {
     "name": "stdout",
     "output_type": "stream",
     "text": [
      "[('I', 'PRON'), ('saw', 'VERB'), ('him', 'PRON'), ('running', 'VERB'), ('away', 'ADV')]\n"
     ]
    }
   ],
   "source": [
    "sentence = \"I saw him running away\"\n",
    "tokens = sentence.split()\n",
    "\n",
    "print(simple_pos_tagger(tokens, word_tag_dict))\n"
   ]
  },
  {
   "cell_type": "code",
   "execution_count": 32,
   "id": "15829fcf",
   "metadata": {},
   "outputs": [
    {
     "name": "stdout",
     "output_type": "stream",
     "text": [
      "[('He', 'PRON'), ('wished', 'VERB'), ('he', 'PRON'), ('was', 'VERB'), ('rich', 'ADJ')]\n"
     ]
    }
   ],
   "source": [
    "sentence = \"He wished he was rich\"\n",
    "tokens = sentence.split()\n",
    "print(simple_pos_tagger(tokens, word_tag_dict))"
   ]
  },
  {
   "cell_type": "code",
   "execution_count": 34,
   "id": "935e7897",
   "metadata": {},
   "outputs": [
    {
     "name": "stdout",
     "output_type": "stream",
     "text": [
      "tag             ADJ  ADP  ADV  CONJ  DET      NOUN  NUM  PRON  PRT  VERB    X\n",
      "word                                                                         \n",
      "!          0.638047  0.0  0.0   0.0  0.0  0.000000  0.0   0.0  0.0   0.0  0.0\n",
      "$.027      0.000000  0.0  0.0   0.0  0.0  0.000007  0.0   0.0  0.0   0.0  0.0\n",
      "$.03       0.000000  0.0  0.0   0.0  0.0  0.000015  0.0   0.0  0.0   0.0  0.0\n",
      "$.054/mbf  0.000000  0.0  0.0   0.0  0.0  0.000004  0.0   0.0  0.0   0.0  0.0\n",
      "$.07       0.000000  0.0  0.0   0.0  0.0  0.000011  0.0   0.0  0.0   0.0  0.0\n"
     ]
    }
   ],
   "source": [
    "# Create frequency table (counts)\n",
    "emission_counts = pd.crosstab(index=df['word'], columns=df['tag'])\n",
    "\n",
    "# Normalize by columns (so each column sums to 1)\n",
    "emission_matrix = pd.crosstab(index=df['word'], columns=df['tag'], normalize='columns')\n",
    "\n",
    "# Optional: view first few rows\n",
    "print(emission_matrix.head())\n"
   ]
  },
  {
   "cell_type": "code",
   "execution_count": 35,
   "id": "03d5912d",
   "metadata": {},
   "outputs": [
    {
     "name": "stdout",
     "output_type": "stream",
     "text": [
      "0.001\n"
     ]
    }
   ],
   "source": [
    "p_his_given_pron = emission_matrix.loc['his', 'PRON']\n",
    "p_his_given_pron = round(p_his_given_pron, 3)\n",
    "print(p_his_given_pron)\n"
   ]
  },
  {
   "cell_type": "code",
   "execution_count": 36,
   "id": "3df55e29",
   "metadata": {},
   "outputs": [
    {
     "name": "stdout",
     "output_type": "stream",
     "text": [
      "next_tag    ADJ    ADP    ADV   CONJ    DET   NOUN    NUM   PRON    PRT  \\\n",
      "tag                                                                       \n",
      "ADJ       0.173  0.103  0.054  0.070  0.097  0.323  0.014  0.070  0.028   \n",
      "ADP       0.092  0.020  0.016  0.002  0.456  0.258  0.030  0.070  0.014   \n",
      "ADV       0.307  0.142  0.097  0.017  0.074  0.033  0.013  0.048  0.029   \n",
      "CONJ      0.133  0.073  0.091  0.000  0.151  0.244  0.019  0.068  0.025   \n",
      "DET       0.253  0.009  0.018  0.001  0.006  0.627  0.010  0.010  0.002   \n",
      "NOUN      0.297  0.245  0.027  0.060  0.016  0.150  0.008  0.020  0.018   \n",
      "NUM       0.333  0.132  0.020  0.038  0.014  0.381  0.022  0.009  0.005   \n",
      "PRON      0.113  0.056  0.054  0.011  0.018  0.009  0.001  0.008  0.024   \n",
      "PRT       0.096  0.091  0.036  0.012  0.084  0.036  0.005  0.007  0.011   \n",
      "VERB      0.138  0.169  0.103  0.014  0.163  0.098  0.009  0.055  0.066   \n",
      "X         0.277  0.053  0.007  0.023  0.006  0.056  0.001  0.006  0.007   \n",
      "\n",
      "next_tag   VERB      X  \n",
      "tag                     \n",
      "ADJ       0.066  0.001  \n",
      "ADP       0.041  0.000  \n",
      "ADV       0.240  0.000  \n",
      "CONJ      0.195  0.001  \n",
      "DET       0.065  0.001  \n",
      "NOUN      0.159  0.000  \n",
      "NUM       0.046  0.000  \n",
      "PRON      0.706  0.000  \n",
      "PRT       0.623  0.000  \n",
      "VERB      0.184  0.000  \n",
      "X         0.052  0.512  \n"
     ]
    }
   ],
   "source": [
    "\n",
    "df['next_tag'] = df['tag'].shift(-1)\n",
    "df = df[df['tag'] != '.']\n",
    "\n",
    "transition_matrix = pd.crosstab(index=df['tag'],\n",
    "                                columns=df['next_tag'],\n",
    "                                normalize='index')\n",
    "\n",
    "print(round(transition_matrix, 3))\n"
   ]
  }
 ],
 "metadata": {
  "kernelspec": {
   "display_name": "Python 3",
   "language": "python",
   "name": "python3"
  },
  "language_info": {
   "codemirror_mode": {
    "name": "ipython",
    "version": 3
   },
   "file_extension": ".py",
   "mimetype": "text/x-python",
   "name": "python",
   "nbconvert_exporter": "python",
   "pygments_lexer": "ipython3",
   "version": "3.12.1"
  }
 },
 "nbformat": 4,
 "nbformat_minor": 5
}
